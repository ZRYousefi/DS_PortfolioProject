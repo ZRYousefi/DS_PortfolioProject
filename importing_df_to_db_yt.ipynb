{
 "cells": [
  {
   "cell_type": "code",
   "execution_count": 1,
   "id": "87efcd04",
   "metadata": {},
   "outputs": [
    {
     "name": "stdout",
     "output_type": "stream",
     "text": [
      "Collecting psycopg2\n",
      "  Downloading psycopg2-2.9.3.tar.gz (380 kB)\n",
      "\u001b[2K     \u001b[90m━━━━━━━━━━━━━━━━━━━━━━━━━━━━━━━━━━━━━━━\u001b[0m \u001b[32m380.6/380.6 kB\u001b[0m \u001b[31m1.4 MB/s\u001b[0m eta \u001b[36m0:00:00\u001b[0ma \u001b[36m0:00:01\u001b[0m\n",
      "\u001b[?25h  Preparing metadata (setup.py) ... \u001b[?25ldone\n",
      "\u001b[?25hBuilding wheels for collected packages: psycopg2\n",
      "  Building wheel for psycopg2 (setup.py) ... \u001b[?25ldone\n",
      "\u001b[?25h  Created wheel for psycopg2: filename=psycopg2-2.9.3-cp38-cp38-macosx_10_9_x86_64.whl size=143554 sha256=4fb5c20abd832d9e40067573490bdc8c9817aaaf3af7c0055153b5e104045cda\n",
      "  Stored in directory: /Users/rezaeiz1/Library/Caches/pip/wheels/f3/dc/e2/b8e0e2142eff7fd680295ecd2d92e3bfbb90195523e43da161\n",
      "Successfully built psycopg2\n",
      "Installing collected packages: psycopg2\n",
      "Successfully installed psycopg2-2.9.3\n",
      "\n",
      "\u001b[1m[\u001b[0m\u001b[34;49mnotice\u001b[0m\u001b[1;39;49m]\u001b[0m\u001b[39;49m A new release of pip available: \u001b[0m\u001b[31;49m22.1.2\u001b[0m\u001b[39;49m -> \u001b[0m\u001b[32;49m22.2.2\u001b[0m\n",
      "\u001b[1m[\u001b[0m\u001b[34;49mnotice\u001b[0m\u001b[1;39;49m]\u001b[0m\u001b[39;49m To update, run: \u001b[0m\u001b[32;49mpip install --upgrade pip\u001b[0m\n"
     ]
    }
   ],
   "source": [
    "!pip install psycopg2\n",
    "import psycopg2 as ps\n",
    "import pandas as pd"
   ]
  },
  {
   "cell_type": "code",
   "execution_count": null,
   "id": "59dd82df",
   "metadata": {},
   "outputs": [],
   "source": [
    "#upload your CSV files here\n",
    "df = pd.read_csv('youtube_vids_1st_pull.csv', index_col=0) \n",
    "df.head()"
   ]
  },
  {
   "cell_type": "code",
   "execution_count": null,
   "id": "cbae3f27",
   "metadata": {},
   "outputs": [],
   "source": [
    "def connect_to_db(host_name, dbname, port, username, password):\n",
    "    try:\n",
    "        conn = ps.connect(host=host_name, database=dbname, user=username, password=password, port=port)\n",
    "\n",
    "    except ps.OperationalError as e:\n",
    "        raise e\n",
    "    else:\n",
    "        print('Connected!')\n",
    "        return conn\n",
    "\n",
    "def create_table(curr):\n",
    "    create_table_command = (\"\"\"CREATE TABLE IF NOT EXISTS videos (\n",
    "                    video_id VARCHAR(255) PRIMARY KEY,\n",
    "                    video_title TEXT NOT NULL,\n",
    "                    upload_date DATE NOT NULL DEFAULT CURRENT_DATE,\n",
    "                    view_count INTEGER NOT NULL,\n",
    "                    like_count INTEGER NOT NULL,\n",
    "                    dislike_count INTEGER NOT NULL,\n",
    "                    comment_count INTEGER NOT NULL\n",
    "            )\"\"\")\n",
    "\n",
    "    curr.execute(create_table_command)\n",
    "\n",
    "def insert_into_table(curr, video_id, video_title, upload_date, view_count, like_count, dislike_count, comment_count):\n",
    "    insert_into_videos = (\"\"\"INSERT INTO videos (video_id, video_title, upload_date,\n",
    "                        view_count, like_count, dislike_count,comment_count)\n",
    "    VALUES(%s,%s,%s,%s,%s,%s,%s);\"\"\")\n",
    "    row_to_insert = (video_id, video_title, upload_date, view_count, like_count, dislike_count, comment_count)\n",
    "    curr.execute(insert_into_videos, row_to_insert)\n",
    "\n",
    "\n",
    "def update_row(curr, video_id, video_title, view_count, like_count, dislike_count, comment_count):\n",
    "    query = (\"\"\"UPDATE videos\n",
    "            SET video_title = %s,\n",
    "                view_count = %s,\n",
    "                like_count = %s,\n",
    "                dislike_count = %s,\n",
    "                comment_count = %s\n",
    "            WHERE video_id = %s;\"\"\")\n",
    "    vars_to_update = (video_title, view_count, like_count, dislike_count, comment_count, video_id)\n",
    "    curr.execute(query, vars_to_update)\n",
    "\n",
    "\n",
    "def check_if_video_exists(curr, video_id): \n",
    "    query = (\"\"\"SELECT video_id FROM VIDEOS WHERE video_id = %s\"\"\")\n",
    "\n",
    "    curr.execute(query, (video_id,))\n",
    "    return curr.fetchone() is not None\n",
    "\n",
    "\n",
    "\n",
    "def truncate_table(curr):\n",
    "    truncate_table = (\"\"\"TRUNCATE TABLE videos\"\"\")\n",
    "\n",
    "    curr.execute(truncate_table)\n",
    "\n",
    "\n",
    "def append_from_df_to_db(curr,df):\n",
    "    for i, row in df.iterrows():\n",
    "        insert_into_table(curr, row['video_id'], row['video_title'], row['upload_date'], row['view_count']\n",
    "                          , row['like_count'], row['dislike_count'], row['comment_count'])\n",
    "\n",
    "\n",
    "def update_db(curr,df):\n",
    "    tmp_df = pd.DataFrame(columns=['video_id', 'video_title', 'upload_date', 'view_count',\n",
    "                                   'like_count', 'dislike_count', 'comment_count'])\n",
    "    for i, row in df.iterrows():\n",
    "        if check_if_video_exists(curr, row['video_id']): # If video already exists then we will update\n",
    "            update_row(curr,row['video_id'],row['video_title'],row['view_count'],row['like_count'],row['dislike_count'],row['comment_count'])\n",
    "        else: # The video doesn't exists so we will add it to a temp df and append it using append_from_df_to_db\n",
    "            tmp_df = tmp_df.append(row)\n",
    "\n",
    "    return tmp_df"
   ]
  },
  {
   "cell_type": "code",
   "execution_count": null,
   "id": "677c21d4",
   "metadata": {},
   "outputs": [],
   "source": [
    "#Main\n",
    "\n",
    "#database credentials\n",
    "host_name = 'xxxxxxxxx.rds.amazonaws.com'\n",
    "dbname = 'xxxxx'\n",
    "port = '5432'\n",
    "username = 'xxxx' \n",
    "password = 'xxxxxxx'\n",
    "conn = None\n",
    "\n",
    "#establish a connection to db\n",
    "conn = connect_to_db(host_name, dbname, port, username, password)\n",
    "curr = conn.cursor()"
   ]
  },
  {
   "cell_type": "code",
   "execution_count": null,
   "id": "3009e048",
   "metadata": {},
   "outputs": [],
   "source": [
    "#create table\n",
    "\n",
    "create_table(curr)"
   ]
  },
  {
   "cell_type": "code",
   "execution_count": null,
   "id": "2926da34",
   "metadata": {},
   "outputs": [],
   "source": [
    "#update data for existing videos\n",
    "\n",
    "new_vid_df = update_db(curr,df)\n",
    "conn.commit()"
   ]
  }
 ],
 "metadata": {
  "kernelspec": {
   "display_name": "Python 3 (ipykernel)",
   "language": "python",
   "name": "python3"
  },
  "language_info": {
   "codemirror_mode": {
    "name": "ipython",
    "version": 3
   },
   "file_extension": ".py",
   "mimetype": "text/x-python",
   "name": "python",
   "nbconvert_exporter": "python",
   "pygments_lexer": "ipython3",
   "version": "3.8.5"
  }
 },
 "nbformat": 4,
 "nbformat_minor": 5
}
