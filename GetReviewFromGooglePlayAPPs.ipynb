{
 "cells": [
  {
   "cell_type": "code",
   "execution_count": 5,
   "id": "e1abee90",
   "metadata": {},
   "outputs": [],
   "source": [
    "# https://stackoverflow.com/questions/40300156/how-to-get-all-reviews-of-any-app-from-googles-playstore-programatically\n",
    "# https://pypi.org/project/google-play-scraper/\n",
    "# pip install google-play-scraper\n",
    "\n",
    "from google_play_scraper import app\n",
    "from google_play_scraper import Sort, reviews"
   ]
  },
  {
   "cell_type": "code",
   "execution_count": 2,
   "id": "a2dfbb83",
   "metadata": {},
   "outputs": [],
   "source": [
    "result = app(\n",
    "    'com.nianticlabs.pokemongo',\n",
    "    lang='en', # defaults to 'en'\n",
    "    country='us' # defaults to 'us'\n",
    ")"
   ]
  },
  {
   "cell_type": "code",
   "execution_count": 4,
   "id": "3fc4d7a7",
   "metadata": {},
   "outputs": [],
   "source": [
    "# print(result)"
   ]
  },
  {
   "cell_type": "code",
   "execution_count": 6,
   "id": "43666447",
   "metadata": {},
   "outputs": [],
   "source": [
    "result, continuation_token = reviews(\n",
    "    'com.fantome.penguinisle',\n",
    "    lang='en', # defaults to 'en'\n",
    "    country='us', # defaults to 'us'\n",
    "    sort=Sort.NEWEST, # defaults to Sort.NEWEST\n",
    "    count=3, # defaults to 100\n",
    "    filter_score_with=5 # defaults to None(means all score)\n",
    ")\n",
    "\n",
    "# If you pass `continuation_token` as an argument to the reviews function at this point,\n",
    "# it will crawl the items after 3 review items.\n",
    "\n",
    "result, _ = reviews(\n",
    "    'com.fantome.penguinisle',\n",
    "    continuation_token=continuation_token # defaults to None(load from the beginning)\n",
    ")"
   ]
  },
  {
   "cell_type": "code",
   "execution_count": 7,
   "id": "ba5ab6fc",
   "metadata": {},
   "outputs": [
    {
     "name": "stdout",
     "output_type": "stream",
     "text": [
      "[{'reviewId': '32043886-9991-4fd5-95b4-e1de007923da', 'userName': 'Nicola', 'userImage': 'https://play-lh.googleusercontent.com/a/AItbvmlO2rME6GMCJNij1RB22S3Sd6NOV1EL2nSfk8k0QQ=mo', 'content': \"I never rate a game 5 stars but this is the best game I've played. Its good for when you feel bored and just want a relaxing game. There's lots of events where you can get cool penguins in costumes and you can make items to place around your island. Definitely worth the download.\", 'score': 5, 'thumbsUpCount': 0, 'reviewCreatedVersion': '1.49.1', 'at': datetime.datetime(2022, 8, 11, 12, 12, 36), 'replyContent': None, 'repliedAt': None}, {'reviewId': '0d2c61e5-c33b-455b-86af-e8545352a46f', 'userName': 'Ivan Russell Ricafort', 'userImage': 'https://play-lh.googleusercontent.com/a-/AFdZucoQXkIUDkVyIVvrG8h5u2bqScFk1YZo6ql0BCbzxw', 'content': 'It relaxing', 'score': 5, 'thumbsUpCount': 0, 'reviewCreatedVersion': '1.49.1', 'at': datetime.datetime(2022, 8, 10, 11, 59, 25), 'replyContent': None, 'repliedAt': None}, {'reviewId': '600f4de8-abbd-4ad0-9c6c-1327d3107074', 'userName': 'Radja Fiko', 'userImage': 'https://play-lh.googleusercontent.com/a-/AFdZucqrUtLSlonkgWi_U7yduekY-_amzG8cz2FGyJi7Sg', 'content': 'stress reliever', 'score': 5, 'thumbsUpCount': 0, 'reviewCreatedVersion': '1.49.1', 'at': datetime.datetime(2022, 8, 10, 10, 11, 44), 'replyContent': None, 'repliedAt': None}]\n"
     ]
    }
   ],
   "source": [
    "print(result)"
   ]
  }
 ],
 "metadata": {
  "kernelspec": {
   "display_name": "Python 3 (ipykernel)",
   "language": "python",
   "name": "python3"
  },
  "language_info": {
   "codemirror_mode": {
    "name": "ipython",
    "version": 3
   },
   "file_extension": ".py",
   "mimetype": "text/x-python",
   "name": "python",
   "nbconvert_exporter": "python",
   "pygments_lexer": "ipython3",
   "version": "3.8.5"
  }
 },
 "nbformat": 4,
 "nbformat_minor": 5
}
